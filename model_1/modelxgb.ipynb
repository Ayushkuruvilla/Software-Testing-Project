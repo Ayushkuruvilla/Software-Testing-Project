{
 "cells": [
  {
   "cell_type": "code",
   "execution_count": null,
   "id": "b33253a3-267f-4d41-990d-ec262343af8a",
   "metadata": {},
   "outputs": [],
   "source": [
    "from sklearn.model_selection import train_test_split\n",
    "import onnxruntime as rt\n",
    "import onnx\n",
    "from skl2onnx.common.data_types import FloatTensorType\n",
    "from skl2onnx import to_onnx\n",
    "from sklearn.ensemble import RandomForestClassifier\n",
    "from sklearn.metrics import accuracy_score, precision_score, recall_score, f1_score\n",
    "from sklearn.pipeline import Pipeline\n",
    "from skl2onnx import convert_sklearn\n",
    "from sklearn.preprocessing import StandardScaler\n",
    "# define a XGBoost classifier\n",
    "import xgboost as xgb\n",
    "import warnings\n",
    "import pandas as pd\n",
    "import numpy as np\n",
    "from scipy import stats\n",
    "import matplotlib.pyplot as plt\n",
    "import seaborn as sns\n",
    "from sklearn.base import BaseEstimator, TransformerMixin\n",
    "from imblearn.over_sampling import SMOTE\n",
    "from sklearn.ensemble import RandomForestClassifier\n",
    "from sklearn.feature_selection import SelectFromModel\n",
    "from sklearn.ensemble import GradientBoostingClassifier\n",
    "from aif360.sklearn.datasets import fetch_compas\n",
    "from aif360.sklearn.metrics import disparate_impact_ratio, consistency_score, generalized_entropy_error\n",
    "from aif360.sklearn.detectors import bias_scan\n",
    "from aif360.sklearn.inprocessing import AdversarialDebiasing\n",
    "from aif360.datasets import BinaryLabelDataset, StandardDataset\n",
    "from aif360.metrics import BinaryLabelDatasetMetric\n",
    "from xgboost import XGBClassifier\n",
    "warnings.filterwarnings(\"ignore\")  # Ignore runtime warnings\n",
    "# Temporarily adjust pandas display settings for large DataFrames\n",
    "pd.set_option('display.max_rows', 100)  # Ensure 100 rows can be displayed\n",
    "pd.set_option('display.max_columns', None)  # Ensure all columns can be displayed\n",
    "pd.set_option('display.width', None)  # Automatically adjust display width to terminal size\n",
    "pd.set_option('display.max_colwidth', None)  # Ensure full width of column content is shown\n",
    "pd.set_option('display.float_format', '{:.4f}'.format)  # Format the float numbers for better readability\n"
   ]
  },
  {
   "cell_type": "code",
   "execution_count": null,
   "id": "72505f79-7a14-4204-873b-2a471fe2404d",
   "metadata": {},
   "outputs": [],
   "source": [
    "data = pd.read_csv('C:\\\\Users\\\\91948\\\\Desktop\\\\SE\\\\Software-Testing-Project\\\\data\\\\investigation_train_large_checked_adjusted2.csv')"
   ]
  },
  {
   "cell_type": "code",
   "execution_count": null,
   "id": "e5cfa6c6-eab3-4e53-a5e3-3595b319b04a",
   "metadata": {},
   "outputs": [],
   "source": [
    "class ZeroFeaturesByKeywords(BaseEstimator, TransformerMixin):\n",
    "    def __init__(self, non_fair_keywords=None, to_remove=None):\n",
    "        # Initialize keywords and columns to remove\n",
    "        self.non_fair_keywords = non_fair_keywords if non_fair_keywords else [\n",
    "            \"relatie_kind\", \"relatie_partner\", \"ontheffing\", \"belemmering\", \n",
    "            \"competentie\", \"persoon\", \"persoonlijke\", \"adres\", \n",
    "            \"typering_dagen_som\", \"Ja\", \"Nee\"\n",
    "        ]\n",
    "        self.to_remove = to_remove if to_remove else [\n",
    "            \"persoon_leeftijd_bij_onderzoek\", \"persoon_geslacht_vrouw\",\n",
    "            \"belemmering_financiele_problemen\", \"persoonlijke_eigenschappen_taaleis_voldaan\",\n",
    "            \"relatie_kind_heeft_kinderen\"\n",
    "        ]\n",
    "        self.zeroed_columns_ = []\n",
    "\n",
    "    def fit(self, X, y=None):\n",
    "        # Identify columns to be zeroed (not modified in-place)\n",
    "        self.feature_names_in_ = list(X.columns)\n",
    "\n",
    "        # Identify columns to be zeroed\n",
    "        self.zeroed_columns_ = [\n",
    "        col for col in X.columns \n",
    "        if any(col.startswith(keyword) for keyword in self.non_fair_keywords) and col not in self.to_remove\n",
    "        ]\n",
    "        return self\n",
    "\n",
    "    def transform(self, X):\n",
    "        # Apply zeroing transformation\n",
    "        X_copy = X.copy()\n",
    "        for col in self.zeroed_columns_:\n",
    "            X_copy[col] = 0\n",
    "        return X_copy\n"
   ]
  },
  {
   "cell_type": "code",
   "execution_count": null,
   "id": "a73a5274-9762-4ac3-8d5e-1278c921fe69",
   "metadata": {},
   "outputs": [],
   "source": [
    "# Step 2: Define the target and features\n",
    "y = data['checked']  # Assuming 'checked' is the target column\n",
    "X = data.drop(['checked'], axis=1)\n",
    "\n",
    "# Ensure features are float32\n",
    "X = X.astype(np.float32)\n",
    "\n",
    "# Step 3: Split the dataset into train and test sets\n",
    "X_train, X_test, y_train, y_test = train_test_split(\n",
    "    X, y, test_size=0.2, random_state=42, shuffle=True, stratify=y\n",
    ")\n",
    "classifier = XGBClassifier(max_depth=25, n_estimators=200)\n",
    "\n",
    "# Step 6: Create the pipeline\n",
    "pipeline = Pipeline([\n",
    "    ('zero_features', ZeroFeaturesByKeywords()),  # Zero features transformer\n",
    "    ('scaling', StandardScaler()),                # Scaling step\n",
    "    ('classification', classifier)               # Final classifier\n",
    "])\n",
    "\n",
    "# Step 7: Train the pipeline\n",
    "pipeline.fit(X_train, y_train)"
   ]
  },
  {
   "cell_type": "code",
   "execution_count": null,
   "id": "9305d830-9db2-471d-af6a-6fcf25d3104d",
   "metadata": {},
   "outputs": [],
   "source": [
    "from skl2onnx.common.shape_calculator import (\n",
    "    calculate_linear_classifier_output_shapes,\n",
    ")\n",
    "from skl2onnx import update_registered_converter\n",
    "from onnxmltools.convert.xgboost.operator_converters.XGBoost import convert_xgboost\n",
    "update_registered_converter(\n",
    "    XGBClassifier,  # The model class\n",
    "    \"XGBoostXGBClassifier\",  # The operator name\n",
    "    calculate_linear_classifier_output_shapes,  # Shape calculator\n",
    "    convert_xgboost, \n",
    "    options={\"nocl\": [True, False], \"zipmap\": [True, False, \"columns\"]},\n",
    ")"
   ]
  },
  {
   "cell_type": "code",
   "execution_count": null,
   "id": "76e0984d-46ca-4ca0-9a69-3ef1335a1507",
   "metadata": {},
   "outputs": [],
   "source": [
    "# Let's convert the model to ONNX\n",
    "onnx_model = convert_sklearn(\n",
    "    pipeline, initial_types=[('X', FloatTensorType((None, X.shape[1])))],\n",
    "    target_opset={'': 12, 'ai.onnx.ml': 3})\n",
    "\n",
    "onnx.save(onnx_model, \"modelXGBnormal.onnx\")"
   ]
  }
 ],
 "metadata": {
  "kernelspec": {
   "display_name": "Python 3 (ipykernel)",
   "language": "python",
   "name": "python3"
  },
  "language_info": {
   "codemirror_mode": {
    "name": "ipython",
    "version": 3
   },
   "file_extension": ".py",
   "mimetype": "text/x-python",
   "name": "python",
   "nbconvert_exporter": "python",
   "pygments_lexer": "ipython3",
   "version": "3.11.9"
  }
 },
 "nbformat": 4,
 "nbformat_minor": 5
}
